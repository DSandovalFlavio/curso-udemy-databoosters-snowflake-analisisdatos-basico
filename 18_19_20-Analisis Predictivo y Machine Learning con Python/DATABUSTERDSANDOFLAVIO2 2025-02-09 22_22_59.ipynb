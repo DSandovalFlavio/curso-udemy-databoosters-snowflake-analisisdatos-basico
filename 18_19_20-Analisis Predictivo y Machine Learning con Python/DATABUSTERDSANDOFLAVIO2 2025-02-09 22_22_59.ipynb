{
 "cells": [
  {
   "cell_type": "markdown",
   "id": "f50bee60-4f5d-49b0-aae0-02815d6b5ee1",
   "metadata": {
    "collapsed": false,
    "name": "cell26"
   },
   "source": [
    "# Clase 18: Preparación de datos para ML - Limpieza y transformación con SQL y Snowpark"
   ]
  },
  {
   "cell_type": "code",
   "execution_count": null,
   "id": "b1cbb791-7317-4a27-9e1e-9cf6059ee194",
   "metadata": {
    "codeCollapsed": false,
    "language": "python",
    "name": "cell14"
   },
   "outputs": [],
   "source": [
    "from snowflake.snowpark.context import get_active_session\n",
    "import snowflake.snowpark.functions as F\n",
    "session = get_active_session()"
   ]
  },
  {
   "cell_type": "code",
   "execution_count": null,
   "id": "2a737136-a3f2-490d-bf9c-cb849181f557",
   "metadata": {
    "language": "python",
    "name": "cell15"
   },
   "outputs": [],
   "source": [
    "# 2. Seleccionar las tablas necesarias (ORDERS, CUSTOMER, NATION, REGION)\n",
    "orders_table = session.table(\"SNOWFLAKE_SAMPLE_DATA.TPCH_SF1.ORDERS\")\n",
    "customer_table = session.table(\"SNOWFLAKE_SAMPLE_DATA.TPCH_SF1.CUSTOMER\")\n",
    "nation_table = session.table(\"SNOWFLAKE_SAMPLE_DATA.TPCH_SF1.NATION\")\n",
    "region_table = session.table(\"SNOWFLAKE_SAMPLE_DATA.TPCH_SF1.REGION\")"
   ]
  },
  {
   "cell_type": "code",
   "execution_count": null,
   "id": "c5ea13dc-ae57-4061-bf96-81f33caab076",
   "metadata": {
    "codeCollapsed": false,
    "language": "python",
    "name": "cell13"
   },
   "outputs": [],
   "source": [
    "# 3. Filtrar datos para Estados Unidos (USA)\n",
    "usa_region_key = region_table.filter(F.col(\"R_NAME\") == 'AMERICA').select(\"R_REGIONKEY\")\n",
    "usa_nation_key = nation_table.filter( (F.col(\"N_NAME\") == 'UNITED STATES') & (F.col(\"N_REGIONKEY\").isin(usa_region_key))).select(\"N_NATIONKEY\")\n",
    "usa_customer_keys = customer_table.filter(F.col(\"C_NATIONKEY\").isin(usa_nation_key)).select(\"C_CUSTKEY\")\n",
    "usa_orders = orders_table.filter(F.col(\"O_CUSTKEY\").isin(usa_customer_keys))"
   ]
  },
  {
   "cell_type": "code",
   "execution_count": null,
   "id": "525d6903-e8c4-4e54-86fe-1d38007ac3d4",
   "metadata": {
    "codeCollapsed": false,
    "language": "python",
    "name": "cell1"
   },
   "outputs": [],
   "source": [
    "# 4. Agrupar las ventas por fecha para obtener las ventas diarias totales\n",
    "daily_sales_spdf = usa_orders.group_by(\n",
    "    F.to_date(F.col(\"O_ORDERDATE\")).alias(\"ORDER_DATE\")\n",
    "    ).agg(F.sum(\"O_TOTALPRICE\").alias(\"TOTAL_SALES\"))"
   ]
  },
  {
   "cell_type": "code",
   "execution_count": null,
   "id": "7b2d0ea5-5292-4683-8e92-29838889c319",
   "metadata": {
    "codeCollapsed": false,
    "language": "python",
    "name": "cell2"
   },
   "outputs": [],
   "source": [
    "daily_sales_spdf.count()"
   ]
  },
  {
   "cell_type": "code",
   "execution_count": null,
   "id": "06d1af84-6005-4ec9-b44c-f6a8beed3533",
   "metadata": {
    "codeCollapsed": false,
    "language": "python",
    "name": "cell3"
   },
   "outputs": [],
   "source": [
    "# 5. Convertir a Pandas DataFrame para visualización y ML con scikit-learn\n",
    "daily_sales_pdf = daily_sales_spdf.to_pandas()"
   ]
  },
  {
   "cell_type": "code",
   "execution_count": null,
   "id": "be2dfdd7-572c-4578-89eb-eb45b31bb254",
   "metadata": {
    "codeCollapsed": false,
    "language": "python",
    "name": "cell4"
   },
   "outputs": [],
   "source": [
    "# 6. Ordenar por fecha para la visualización de series temporales\n",
    "daily_sales_pdf = daily_sales_pdf.sort_values(by='ORDER_DATE')"
   ]
  },
  {
   "cell_type": "code",
   "execution_count": null,
   "id": "61ad9ccd-8111-4521-9f7a-87ecc370b12d",
   "metadata": {
    "codeCollapsed": false,
    "language": "python",
    "name": "cell5"
   },
   "outputs": [],
   "source": [
    "# 7. Visualizar las ventas diarias totales usando Plotly\n",
    "px.line(daily_sales_pdf, x=\"ORDER_DATE\", y=\"TOTAL_SALES\",\n",
    "              title='Ventas Diarias Totales en Estados Unidos', render_mode='svg')"
   ]
  },
  {
   "cell_type": "markdown",
   "id": "7737d808-e1b8-49a3-8702-f80fd31ca47f",
   "metadata": {
    "collapsed": false,
    "name": "cell27"
   },
   "source": [
    "# Clase 19: Integración con herramientas de ML - Conexión con Scikit-learn y Entrenamiento"
   ]
  },
  {
   "cell_type": "code",
   "execution_count": null,
   "id": "2afc6059-934c-47ac-bcf2-2b45fec29e4c",
   "metadata": {
    "codeCollapsed": false,
    "language": "python",
    "name": "cell6"
   },
   "outputs": [],
   "source": [
    "from sklearn.model_selection import train_test_split\n",
    "from sklearn.linear_model import LinearRegression\n",
    "from sklearn.metrics import mean_squared_error"
   ]
  },
  {
   "cell_type": "code",
   "execution_count": null,
   "id": "1f012c1a-1172-47be-9a6c-f04e07eac13c",
   "metadata": {
    "codeCollapsed": false,
    "language": "python",
    "name": "cell7"
   },
   "outputs": [],
   "source": [
    "# 8. Preparar los datos para Scikit-learn\n",
    "daily_sales_pdf['ORDER_DATE_NUM'] = pd.to_datetime(daily_sales_pdf['ORDER_DATE']).astype('int64') // 10**9 # Convertir fechas a numérico (timestamp segundos)\n",
    "X = daily_sales_pdf[['ORDER_DATE_NUM']] # Característica: Fecha numérica\n",
    "y = daily_sales_pdf['TOTAL_SALES']      # Variable objetivo: Ventas totales"
   ]
  },
  {
   "cell_type": "code",
   "execution_count": null,
   "id": "cddca83b-6794-49b0-a6c3-6dc2588d88fa",
   "metadata": {
    "codeCollapsed": false,
    "language": "python",
    "name": "cell8"
   },
   "outputs": [],
   "source": [
    "# 9. Dividir los datos en conjuntos de entrenamiento y prueba\n",
    "X_train, X_test, y_train, y_test = train_test_split(X, y, test_size=0.2, random_state=42)\n"
   ]
  },
  {
   "cell_type": "code",
   "execution_count": null,
   "id": "0530a7e3-9ddb-4328-b8ee-27b80f90f083",
   "metadata": {
    "codeCollapsed": false,
    "language": "python",
    "name": "cell9"
   },
   "outputs": [],
   "source": [
    "# 10. Entrenar el modelo de Regresión Lineal con Scikit-learn\n",
    "model = LinearRegression()\n",
    "model.fit(X_train, y_train)"
   ]
  },
  {
   "cell_type": "code",
   "execution_count": null,
   "id": "a0a2987e-85fa-4be1-b4ad-f0798f897d8d",
   "metadata": {
    "codeCollapsed": false,
    "language": "python",
    "name": "cell10"
   },
   "outputs": [],
   "source": [
    "# 11. Hacer predicciones en el conjunto de prueba\n",
    "y_pred = model.predict(X_test)"
   ]
  },
  {
   "cell_type": "code",
   "execution_count": null,
   "id": "a646c1d0-b494-493b-a044-68f14a7d5b0c",
   "metadata": {
    "codeCollapsed": false,
    "language": "python",
    "name": "cell11"
   },
   "outputs": [],
   "source": [
    "# 12. Evaluar el modelo (Error Cuadrático Medio)\n",
    "mse = mean_squared_error(y_test, y_pred)\n",
    "print(f'Error Cuadrático Medio en el conjunto de prueba: {mse}')"
   ]
  },
  {
   "cell_type": "code",
   "execution_count": null,
   "id": "84c96ee9-6b3a-4995-8874-7dc5eed5eba8",
   "metadata": {
    "codeCollapsed": false,
    "language": "python",
    "name": "cell12"
   },
   "outputs": [],
   "source": [
    "# 13. Visualizar las predicciones vs. valores reales en el conjunto de prueba\n",
    "predictions_df = pd.DataFrame({'Fecha': daily_sales_pdf['ORDER_DATE'].iloc[X_test.index].values, # Obtener fechas correspondientes a X_test\n",
    "                                 'Ventas Reales': y_test.values,\n",
    "                                 'Ventas Predichas': y_pred})"
   ]
  },
  {
   "cell_type": "code",
   "execution_count": null,
   "id": "772c2901-134e-4a77-b052-e1b94fbc59f8",
   "metadata": {
    "language": "python",
    "name": "cell18"
   },
   "outputs": [],
   "source": [
    "predictions_df = predictions_df.groupby('Fecha').agg({\n",
    "    'Ventas Reales':'sum',\n",
    "    'Ventas Predichas':'sum'\n",
    "}).reset_index()"
   ]
  },
  {
   "cell_type": "code",
   "execution_count": null,
   "id": "28928565-c64a-4ef9-a0e5-12201a3c30ca",
   "metadata": {
    "codeCollapsed": false,
    "language": "python",
    "name": "cell16"
   },
   "outputs": [],
   "source": [
    "px.line(predictions_df, x='Fecha', y=['Ventas Reales', 'Ventas Predichas'],\n",
    "                           title='Predicciones de Ventas vs. Ventas Reales (Conjunto de Prueba)', render_mode='svg')"
   ]
  },
  {
   "cell_type": "markdown",
   "id": "5ca168e8-da2f-4de1-8b8d-db31395af85b",
   "metadata": {
    "collapsed": false,
    "name": "cell28"
   },
   "source": [
    "# Clase 20: Ejecución de scripts de ML - Guardar y Predecir con el Modelo"
   ]
  },
  {
   "cell_type": "code",
   "execution_count": null,
   "id": "3aa72f9a-b835-4496-a6bc-6928ade18e3d",
   "metadata": {
    "codeCollapsed": false,
    "language": "python",
    "name": "cell17"
   },
   "outputs": [],
   "source": [
    "import joblib\n",
    "import os"
   ]
  },
  {
   "cell_type": "code",
   "execution_count": null,
   "id": "5933325c-59b0-4784-bc06-b4d9c6e7128f",
   "metadata": {
    "codeCollapsed": false,
    "language": "sql",
    "name": "cell19"
   },
   "outputs": [],
   "source": [
    "CREATE STAGE my_ml_models_stage;"
   ]
  },
  {
   "cell_type": "code",
   "execution_count": null,
   "id": "70791b3f-e2c1-4560-bb8a-46fd393ab4bc",
   "metadata": {
    "codeCollapsed": false,
    "language": "python",
    "name": "cell20"
   },
   "outputs": [],
   "source": [
    "# 14. Guardar el modelo entrenado en stage de Snowflake\n",
    "model_stage_path = \"@my_ml_models_stage/linear_regression_sales_model.joblib\" # Reemplaza 'my_ml_models_stage' con el nombre de tu stage\n",
    "joblib.dump(model, 'model.joblib') # Guarda localmente en la sesión de Snowsight (memoria)\n",
    "session.file.put(\"model.joblib\", model_stage_path, overwrite=True) # Sube al stage\n"
   ]
  },
  {
   "cell_type": "code",
   "execution_count": null,
   "id": "851523ba-36dd-4550-b31a-42804a187427",
   "metadata": {
    "codeCollapsed": false,
    "language": "python",
    "name": "cell21"
   },
   "outputs": [],
   "source": [
    "# 15. Cargar el modelo desde el stage de Snowflake\n",
    "downloaded_files = session.file.get(model_stage_path, './')\n",
    "loaded_model = joblib.load(downloaded_files[0].file) # Accedemos al atributo 'file' del GetResult"
   ]
  },
  {
   "cell_type": "code",
   "execution_count": null,
   "id": "3c85a9c0-bcfb-4147-9f5a-80951ce5b59e",
   "metadata": {
    "codeCollapsed": false,
    "language": "python",
    "name": "cell22"
   },
   "outputs": [],
   "source": [
    "# 16. Predecir nuevas ventas para un rango de fechas futuras (ejemplo: 3 meses después del último dato)\n",
    "last_date_numeric = X['ORDER_DATE_NUM'].max() # Fecha numérica más reciente en los datos\n",
    "future_dates_numeric = [last_date_numeric + (i * 86400) for i in range(1, 91)] # 90 días en segundos\n",
    "future_dates_dt = pd.to_datetime(future_dates_numeric, unit='s') # Convertir a datetime\n",
    "future_dates_df = pd.DataFrame({'ORDER_DATE_NUM': future_dates_numeric, 'ORDER_DATE': future_dates_dt})\n",
    "\n",
    "future_predictions = loaded_model.predict(future_dates_df[['ORDER_DATE_NUM']])"
   ]
  },
  {
   "cell_type": "code",
   "execution_count": null,
   "id": "4627e5b2-5163-453f-8402-ab8ee56be4d0",
   "metadata": {
    "codeCollapsed": false,
    "language": "python",
    "name": "cell23"
   },
   "outputs": [],
   "source": [
    "# 17. Crear DataFrame con predicciones futuras para visualización\n",
    "future_predictions_df = pd.DataFrame({'Fecha Futura': future_dates_df['ORDER_DATE'],\n",
    "                                       'Ventas Predichas': future_predictions})"
   ]
  },
  {
   "cell_type": "code",
   "execution_count": null,
   "id": "24009466-bb0a-4076-baab-14cadf0bd514",
   "metadata": {
    "codeCollapsed": false,
    "language": "python",
    "name": "cell24"
   },
   "outputs": [],
   "source": [
    "# 18. Visualizar las predicciones futuras junto con las ventas históricas\n",
    "fig_future_predictions = px.line(future_predictions_df, x='Fecha Futura', y='Ventas Predichas',\n",
    "                                   title='Predicciones de Ventas Futuras (3 Meses)', render_mode='svg')\n",
    "\n",
    "fig_future_predictions"
   ]
  },
  {
   "cell_type": "code",
   "execution_count": null,
   "id": "edf399de-d1bf-46b0-ba3e-9869febf285f",
   "metadata": {
    "codeCollapsed": false,
    "language": "python",
    "name": "cell25"
   },
   "outputs": [],
   "source": []
  }
 ],
 "metadata": {
  "kernelspec": {
   "display_name": "Streamlit Notebook",
   "name": "streamlit"
  },
  "lastEditStatus": {
   "authorEmail": "cursos.db.dsandovalflavio3@gmail.com",
   "authorId": "2875980973663",
   "authorName": "DATABUSTERDSANDOFLAVIO2",
   "lastEditTime": 1739167359368,
   "notebookId": "6shp7tjldrlnwaqw4ez3",
   "sessionId": "4dcb8fc6-2b06-42d6-8316-216a0b337dd0"
  }
 },
 "nbformat": 4,
 "nbformat_minor": 5
}
