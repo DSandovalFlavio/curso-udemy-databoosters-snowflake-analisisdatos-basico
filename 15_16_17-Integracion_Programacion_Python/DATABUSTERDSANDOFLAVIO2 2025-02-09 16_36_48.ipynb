{
 "metadata": {
  "kernelspec": {
   "display_name": "Streamlit Notebook",
   "name": "streamlit"
  },
  "lastEditStatus": {
   "notebookId": "fmxh2s7fjqcaebuy5kbp",
   "authorId": "2875980973663",
   "authorName": "DATABUSTERDSANDOFLAVIO2",
   "authorEmail": "cursos.db.dsandovalflavio3@gmail.com",
   "sessionId": "86488718-ebb5-4141-98c3-6131bf96a581",
   "lastEditTime": 1739149627898
  }
 },
 "nbformat_minor": 5,
 "nbformat": 4,
 "cells": [
  {
   "cell_type": "code",
   "id": "3775908f-ca36-4846-8f38-5adca39217f2",
   "metadata": {
    "language": "python",
    "name": "cell1",
    "collapsed": false,
    "codeCollapsed": false
   },
   "source": "# Import python packages\nimport pandas as pd\n# We can also use Snowpark for our analyses!\nfrom snowflake.snowpark.context import get_active_session\nimport snowflake.snowpark.functions as F\nsession = get_active_session()\n",
   "execution_count": null,
   "outputs": []
  },
  {
   "cell_type": "code",
   "id": "1a10218e-7307-4c52-86a9-665a49302d3a",
   "metadata": {
    "language": "python",
    "name": "cell4",
    "codeCollapsed": false
   },
   "outputs": [],
   "source": "df = session.table(\"GOLD_FACT_SALES_VW\")\ndf.columns",
   "execution_count": null
  },
  {
   "cell_type": "code",
   "id": "2e5ef3ea-cc31-4cd2-b107-ca3ec1d93fdc",
   "metadata": {
    "language": "python",
    "name": "cell2",
    "codeCollapsed": false
   },
   "outputs": [],
   "source": "df.select('PRODUCTID','SALES')",
   "execution_count": null
  },
  {
   "cell_type": "code",
   "id": "31aaeb04-0f51-4250-9339-6cb83b37b4b8",
   "metadata": {
    "language": "python",
    "name": "cell5",
    "codeCollapsed": false,
    "collapsed": false
   },
   "outputs": [],
   "source": "df.filter(\"PRODUCTID = 16\")",
   "execution_count": null
  },
  {
   "cell_type": "code",
   "id": "b6cc6212-73a3-40cf-92de-33934c1b3684",
   "metadata": {
    "language": "python",
    "name": "cell6",
    "collapsed": false,
    "codeCollapsed": false
   },
   "outputs": [],
   "source": "df.groupBy('PRODUCTID').agg(\n    F.sum(F.col('SALES')).alias('TOTAL_SALE'))",
   "execution_count": null
  },
  {
   "cell_type": "code",
   "id": "8f19971f-d390-4d35-bd16-52d4af836855",
   "metadata": {
    "language": "python",
    "name": "cell7",
    "collapsed": false
   },
   "outputs": [],
   "source": "product_sale = df.groupBy('PRODUCTID').agg(F.sum(F.col('SALES')).alias('TOTAL_SALE'))\nproduct_name = session.table('DATABUSTER_SAMPLE.PUBLIC.GOLD_DIM_PRODUCT_VW')\nproduct_sale.join(product_name, \"PRODUCTID\")",
   "execution_count": null
  },
  {
   "cell_type": "code",
   "id": "1e94e01e-c982-45c2-826a-c8e6c37af9aa",
   "metadata": {
    "language": "python",
    "name": "cell8"
   },
   "outputs": [],
   "source": "product_sale.join(product_name, \"PRODUCTID\").orderBy(F.col('TOTAL_SALE').desc())",
   "execution_count": null
  },
  {
   "cell_type": "code",
   "id": "7ffd9dbd-af38-4744-8203-e4d347b80080",
   "metadata": {
    "language": "python",
    "name": "cell9"
   },
   "outputs": [],
   "source": "sales_analist = product_sale.join(product_name, \"PRODUCTID\").orderBy(F.col('TOTAL_SALE').desc())\nsales_analist.write.mode('overwrite').saveAsTable('sales_analist')",
   "execution_count": null
  },
  {
   "cell_type": "code",
   "id": "c695373e-ac74-4b62-a1f1-08206cbd5c81",
   "metadata": {
    "language": "python",
    "name": "cell3",
    "collapsed": false,
    "codeCollapsed": false
   },
   "source": "\nmy_df = cell2.to_pandas()\n",
   "execution_count": null,
   "outputs": []
  }
 ]
}