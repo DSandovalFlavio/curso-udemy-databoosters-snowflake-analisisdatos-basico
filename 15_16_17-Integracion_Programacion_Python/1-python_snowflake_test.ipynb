{
 "cells": [
  {
   "cell_type": "markdown",
   "metadata": {},
   "source": [
    "# Librerías para conectar Python con Snowflake (snowflake-connector-python)."
   ]
  },
  {
   "cell_type": "markdown",
   "metadata": {},
   "source": [
    "## Librerías para conectar Python con Snowflake\n",
    "- `snowflake-connector-python`:  la librería oficial de Snowflake para Python.\n",
    "- Instalación:  `pip install snowflake-connector-python`.\n",
    "- Conceptos básicos:\n",
    "   *   Objeto de conexión: Representa la conexión a Snowflake. Se crea utilizando la función `snowflake.connector.connect()`, proporcionando las credenciales de acceso y la información de la cuenta.\n",
    "   *   Objeto de cursor: Se utiliza para ejecutar consultas SQL y obtener los resultados. Se crea utilizando el método `conn.cursor()`."
   ]
  },
  {
   "cell_type": "code",
   "execution_count": null,
   "metadata": {},
   "outputs": [],
   "source": [
    "import snowflake.connector\n",
    "\n",
    "# Conexión a Snowflake\n",
    "conn = snowflake.connector.connect(\n",
    "    user='mi_usuario',\n",
    "    password='mi_contraseña',\n",
    "    account='mi_cuenta'\n",
    ")\n",
    "\n",
    "# Crear un cursor\n",
    "cur = conn.cursor()"
   ]
  },
  {
   "cell_type": "code",
   "execution_count": null,
   "metadata": {},
   "outputs": [],
   "source": [
    "#import snowflake.connector\n",
    "import os\n",
    "import configparser\n",
    "\n",
    "# Obtener la ruta del archivo de configuración de SnowSQL\n",
    "config_path = os.path.join(os.environ['USERPROFILE'], '.snowsql', 'config')\n",
    "\n",
    "# Leer el archivo de configuración\n",
    "config = configparser.ConfigParser()\n",
    "config.read(config_path)\n",
    "\n",
    "# Obtener las credenciales de la sección [connections.example]\n",
    "try:\n",
    "    account = config['connections.example']['accountname']\n",
    "    user = config['connections.example']['username']\n",
    "    password = config['connections.example']['password']\n",
    "except KeyError as e:\n",
    "    print(f\"Error: No se encontraron las credenciales en el archivo de configuración: {e}\")\n",
    "    exit()\n",
    "\n",
    "# Conexión a Snowflake\n",
    "try:\n",
    "    conn = snowflake.connector.connect(\n",
    "        user=user,\n",
    "        password=password,\n",
    "        account=account\n",
    "    )\n",
    "    print(\"Conexión exitosa a Snowflake\")\n",
    "\n",
    "except Exception as e:\n",
    "    print(f\"Error de conexión: {e}\")\n"
   ]
  },
  {
   "cell_type": "markdown",
   "metadata": {},
   "source": [
    "# Ejecución de consultas SQL desde Python."
   ]
  },
  {
   "cell_type": "code",
   "execution_count": null,
   "metadata": {},
   "outputs": [],
   "source": [
    "# Crear un cursor\n",
    "cur = conn.cursor()\n",
    "cur.execute('USE DATABASE DATABUSTER_SAMPLE;')\n",
    "cur.execute('USE WAREHOUSE COMPUTE_WH')\n",
    "# Ejecutar una consulta\n",
    "sql = \"SELECT * FROM mi_tabla\"\n",
    "cur.execute(sql)\n",
    "\n",
    "# Obtener los resultados\n",
    "resultados = cur.fetchall()\n",
    "\n",
    "# Imprimir los resultados\n",
    "for fila in resultados:\n",
    "    print(fila)"
   ]
  },
  {
   "cell_type": "markdown",
   "metadata": {},
   "source": [
    "# Extracción de datos a dataframes de Pandas."
   ]
  },
  {
   "cell_type": "code",
   "execution_count": null,
   "metadata": {},
   "outputs": [],
   "source": [
    "import pandas as pd\n",
    "\n",
    "# Ejecutar una consulta\n",
    "sql = \"SELECT * FROM mi_tabla\"\n",
    "cur.execute(sql)\n",
    "\n",
    "# Extraer los resultados a un dataframe de Pandas\n",
    "df = cur.fetch_pandas_all()\n",
    "\n",
    "# Imprimir el dataframe\n",
    "print(df)"
   ]
  }
 ],
 "metadata": {
  "kernelspec": {
   "display_name": "snowpy_env",
   "language": "python",
   "name": "python3"
  },
  "language_info": {
   "codemirror_mode": {
    "name": "ipython",
    "version": 3
   },
   "file_extension": ".py",
   "mimetype": "text/x-python",
   "name": "python",
   "nbconvert_exporter": "python",
   "pygments_lexer": "ipython3",
   "version": "3.11.11"
  }
 },
 "nbformat": 4,
 "nbformat_minor": 2
}
