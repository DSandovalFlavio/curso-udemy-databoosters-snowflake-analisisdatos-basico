{
 "cells": [
  {
   "cell_type": "markdown",
   "metadata": {},
   "source": [
    "# Automatización con Python"
   ]
  },
  {
   "cell_type": "code",
   "execution_count": 1,
   "metadata": {},
   "outputs": [
    {
     "name": "stdout",
     "output_type": "stream",
     "text": [
      "Account: QZWMZYP-VI56001, User: databusterdsandoflavio2 \n"
     ]
    },
    {
     "name": "stderr",
     "output_type": "stream",
     "text": [
      "c:\\Users\\flavi\\anaconda3\\envs\\snowpy_env\\Lib\\site-packages\\snowflake\\connector\\config_manager.py:351: UserWarning: Bad owner or permissions on C:\\Users\\flavi\\.snowflake\\connections.toml\n",
      "  warn(f\"Bad owner or permissions on {str(filep)}{chmod_message}\")\n"
     ]
    },
    {
     "name": "stdout",
     "output_type": "stream",
     "text": [
      "Conexión exitosa\n"
     ]
    }
   ],
   "source": [
    "import snowflake.connector\n",
    "import os\n",
    "import configparser\n",
    "\n",
    "config_path = os.path.join(os.environ['USERPROFILE'], '.snowsql', 'config')\n",
    "config = configparser.ConfigParser()\n",
    "config.read(config_path)\n",
    "\n",
    "try:\n",
    "    account = config['connections.example']['accountname']\n",
    "    user = config['connections.example']['username']\n",
    "    password = config['connections.example']['password']\n",
    "    print(f'Account: {account}, User: {user} ')\n",
    "except KeyError as e:\n",
    "    print(f'Error: {e}')\n",
    "try:\n",
    "    conn = snowflake.connector.connect(\n",
    "        user=user,\n",
    "        password=password,\n",
    "        account=account\n",
    "    )\n",
    "    print('Conexión exitosa')\n",
    "except Exception as e:\n",
    "    print(f'Error: {e}')"
   ]
  },
  {
   "cell_type": "code",
   "execution_count": 3,
   "metadata": {},
   "outputs": [
    {
     "data": {
      "text/plain": [
       "'c:/Users/flavi/Teaching/curso-udemy-databoosters-snowflake-analisisdatos-basico/15_16_17-Integracion_Programacion_Python/data/dataset.csv'"
      ]
     },
     "execution_count": 3,
     "metadata": {},
     "output_type": "execute_result"
    }
   ],
   "source": [
    "# Variables\n",
    "WAREHOUSE = 'COMPUTE_WH'\n",
    "DATABASE = 'DATABUSTER_SAMPLE'\n",
    "SCHEMA = 'PUBLIC'\n",
    "TABLE = 'CAMPAIGN_DATA_PYTHON'\n",
    "path_archivo = os.path.join(os.getcwd(), 'data', 'dataset.csv').replace('\\\\', '/')\n",
    "path_archivo"
   ]
  },
  {
   "cell_type": "code",
   "execution_count": 4,
   "metadata": {},
   "outputs": [
    {
     "data": {
      "text/plain": [
       "<snowflake.connector.cursor.SnowflakeCursor at 0x202a98bc0d0>"
      ]
     },
     "execution_count": 4,
     "metadata": {},
     "output_type": "execute_result"
    }
   ],
   "source": [
    "conn.cursor().execute(f'USE WAREHOUSE {WAREHOUSE}')\n",
    "conn.cursor().execute(f'USE DATABASE {DATABASE}')\n",
    "conn.cursor().execute(f'USE SCHEMA {SCHEMA}')"
   ]
  },
  {
   "cell_type": "code",
   "execution_count": 5,
   "metadata": {},
   "outputs": [
    {
     "data": {
      "text/plain": [
       "<snowflake.connector.cursor.SnowflakeCursor at 0x202ab275050>"
      ]
     },
     "execution_count": 5,
     "metadata": {},
     "output_type": "execute_result"
    }
   ],
   "source": [
    "sql_ddl = f\"\"\"\n",
    "CREATE OR REPLACE TABLE {DATABASE}.{SCHEMA}.{TABLE} (\n",
    "    DateStart DATE,\n",
    "    Campaign STRING,\n",
    "    Region STRING,\n",
    "    Clicks NUMBER,\n",
    "    Impressions NUMBER,\n",
    "    Views NUMBER,\n",
    "    Cost NUMBER\n",
    ");\n",
    "\"\"\"\n",
    "conn.cursor().execute(sql_ddl)"
   ]
  },
  {
   "cell_type": "code",
   "execution_count": 7,
   "metadata": {},
   "outputs": [
    {
     "data": {
      "text/plain": [
       "<snowflake.connector.cursor.SnowflakeCursor at 0x202acc24450>"
      ]
     },
     "execution_count": 7,
     "metadata": {},
     "output_type": "execute_result"
    }
   ],
   "source": [
    "#conn.cursor().execute(f'PUT file://{path_archivo} @%{TABLE}')\n",
    "conn.cursor().execute(f'COPY INTO {TABLE} FILE_FORMAT = (TYPE=CSV SKIP_HEADER=1)')\n"
   ]
  }
 ],
 "metadata": {
  "kernelspec": {
   "display_name": "snowpy_env",
   "language": "python",
   "name": "python3"
  },
  "language_info": {
   "codemirror_mode": {
    "name": "ipython",
    "version": 3
   },
   "file_extension": ".py",
   "mimetype": "text/x-python",
   "name": "python",
   "nbconvert_exporter": "python",
   "pygments_lexer": "ipython3",
   "version": "3.11.11"
  }
 },
 "nbformat": 4,
 "nbformat_minor": 2
}
