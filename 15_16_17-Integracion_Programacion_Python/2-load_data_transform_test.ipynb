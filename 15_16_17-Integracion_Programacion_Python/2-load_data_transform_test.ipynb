{
 "cells": [
  {
   "cell_type": "markdown",
   "metadata": {},
   "source": [
    "# Automatización con Python"
   ]
  },
  {
   "cell_type": "code",
   "execution_count": null,
   "metadata": {},
   "outputs": [],
   "source": [
    "import snowflake.connector\n",
    "import os\n",
    "import configparser\n",
    "\n",
    "\n",
    "config_path = os.path.join(os.environ['USERPROFILE'], '.snowsql', 'config')\n",
    "config = configparser.ConfigParser()\n",
    "config.read(config_path)\n",
    "\n",
    "try:\n",
    "    account = config['connections.example']['accountname']\n",
    "    user = config['connections.example']['username']\n",
    "    password = config['connections.example']['password']\n",
    "except KeyError as e:\n",
    "    print(f\"Error: No se encontraron las credenciales en el archivo de configuración: {e}\")\n",
    "    exit()\n",
    "\n",
    "try:\n",
    "    conn = snowflake.connector.connect(\n",
    "        user=user,\n",
    "        password=password,\n",
    "        account=account\n",
    "    )\n",
    "    print(\"Conexión exitosa a Snowflake\")\n",
    "\n",
    "except Exception as e:\n",
    "    print(f\"Error de conexión: {e}\")"
   ]
  },
  {
   "cell_type": "code",
   "execution_count": null,
   "metadata": {},
   "outputs": [
    {
     "name": "stdout",
     "output_type": "stream",
     "text": [
      "c:/Users/flavi/Teaching/curso-udemy-databoosters-snowflake-analisisdatos-basico/15-Conexion con Python/data/dataset.csv\n"
     ]
    }
   ],
   "source": [
    "# Variables de configuración\n",
    "WAREHOUSE = 'COMPUTE_WH'\n",
    "DATABASE = 'DATABUSTER_SAMPLE'\n",
    "SCHEMA = 'PUBLIC'\n",
    "TABLE = 'CAMPAIGN_DATA_PYTHON'\n",
    "path_archivo = os.path.join(os.getcwd(), 'data', 'dataset.csv').replace('\\\\', '/')"
   ]
  },
  {
   "cell_type": "code",
   "execution_count": null,
   "metadata": {},
   "outputs": [],
   "source": [
    "conn.cursor().execute(f\"USE WAREHOUSE {WAREHOUSE}\")\n",
    "conn.cursor().execute(f\"USE DATABASE {DATABASE}\")  \n",
    "conn.cursor().execute(f\"USE SCHEMA {SCHEMA}\")"
   ]
  },
  {
   "cell_type": "code",
   "execution_count": null,
   "metadata": {},
   "outputs": [],
   "source": [
    "sql_ddl = f\"\"\"\n",
    "CREATE OR REPLACE TABLE {DATABASE}.{SCHEMA}.{TABLE} (\n",
    "    DateStart DATE,\n",
    "    Campaign STRING,\n",
    "    Region STRING,\n",
    "    Clicks NUMBER,\n",
    "    Impressions NUMBER,\n",
    "    Views NUMBER,\n",
    "    Cost NUMBER\n",
    ");\n",
    "\"\"\"\n",
    "conn.cursor().execute(sql_ddl)"
   ]
  },
  {
   "cell_type": "code",
   "execution_count": null,
   "metadata": {},
   "outputs": [],
   "source": [
    "conn.cursor().execute(f\"PUT file://{path_archivo} @%{TABLE}\") # Carga el archivo CSV al stage de la tabla\n",
    "conn.cursor().execute(f\"\"\"\n",
    "COPY INTO {TABLE} \n",
    "FILE_FORMAT=(\n",
    "    TYPE=CSV SKIP_HEADER=1)\n",
    "\"\"\")"
   ]
  },
  {
   "cell_type": "code",
   "execution_count": null,
   "metadata": {},
   "outputs": [],
   "source": [
    "import pandas as pd\n",
    "sql = f\"\"\"\n",
    "SELECT * FROM {TABLE}\n",
    "\"\"\"\n",
    "cursor = conn.cursor().execute(sql)\n",
    "df = cursor.fetch_pandas_all()\n",
    "print(df)"
   ]
  }
 ],
 "metadata": {
  "kernelspec": {
   "display_name": "snowpy_env",
   "language": "python",
   "name": "python3"
  },
  "language_info": {
   "codemirror_mode": {
    "name": "ipython",
    "version": 3
   },
   "file_extension": ".py",
   "mimetype": "text/x-python",
   "name": "python",
   "nbconvert_exporter": "python",
   "pygments_lexer": "ipython3",
   "version": "3.11.11"
  }
 },
 "nbformat": 4,
 "nbformat_minor": 2
}
